{
 "cells": [
  {
   "cell_type": "code",
   "execution_count": 1,
   "id": "b6ba2fe6",
   "metadata": {},
   "outputs": [],
   "source": [
    "import torch\n",
    "import matplotlib.pyplot as plt\n",
    "import numpy as np\n",
    "import os\n",
    "os.environ['KMP_DUPLICATE_LIB_OK'] = 'TRUE'"
   ]
  },
  {
   "cell_type": "code",
   "execution_count": 4,
   "id": "dd4e91b8",
   "metadata": {},
   "outputs": [],
   "source": [
    "def synthetic_data(w, b, num_examples):\n",
    "    '''生成y=Xw+b+噪声'''\n",
    "    X = torch.normal(0, 1, (num_examples, len(w)))\n",
    "    y = torch.matmul(X, w) + b\n",
    "    y += torch.normal(0, 0.01, y.shape)\n",
    "    return X, y.reshape((-1, 1))"
   ]
  },
  {
   "cell_type": "code",
   "execution_count": 5,
   "id": "34d3ff0c",
   "metadata": {},
   "outputs": [
    {
     "data": {
      "text/plain": [
       "'feature:tensor([-0.7116,  0.5886])\\nlabel:tensor([0.7650])'"
      ]
     },
     "execution_count": 5,
     "metadata": {},
     "output_type": "execute_result"
    }
   ],
   "source": [
    "true_w = torch.tensor([2, -3.4])\n",
    "true_b = 4.2\n",
    "features, labels = synthetic_data(true_w, true_b, 1000)\n",
    "f'feature:{features[0]}\\nlabel:{labels[0]}'"
   ]
  },
  {
   "cell_type": "code",
   "execution_count": 8,
   "id": "16f33da7",
   "metadata": {},
   "outputs": [
    {
     "data": {
      "image/png": "[encoded data removed]",
      "text/plain": [
       "<Figure size 432x288 with 1 Axes>"
      ]
     },
     "metadata": {
      "needs_background": "light"
     },
     "output_type": "display_data"
    }
   ],
   "source": [
    "plt.scatter(features[:, 1].numpy(), labels.detach().numpy())\n",
    "plt.show()"
   ]
  },
  {
   "cell_type": "code",
   "execution_count": 9,
   "id": "b0c73c76",
   "metadata": {},
   "outputs": [],
   "source": [
    "import random\n",
    "def data_iter(batch_size, features, labels):\n",
    "    num_examples = len(features)\n",
    "    indices = list(range(num_examples))\n",
    "    random.shuffle(indices)\n",
    "    for i in range(0, num_examples, batch_size):\n",
    "        batch_indices = torch.tensor(indices[i: min(i + batch_size, num_examples)])\n",
    "    yield features[batch_indices], labels[batch_indices]"
   ]
  },
  {
   "cell_type": "code",
   "execution_count": 11,
   "id": "a1437482",
   "metadata": {},
   "outputs": [
    {
     "name": "stdout",
     "output_type": "stream",
     "text": [
      "tensor([[-0.4795,  0.1367],\n",
      "        [-0.4695, -1.1391],\n",
      "        [-1.8615, -0.4816],\n",
      "        [-1.4281,  0.0106],\n",
      "        [ 0.6419, -0.2880],\n",
      "        [-0.2290,  1.4978],\n",
      "        [ 0.4731, -1.5940],\n",
      "        [ 1.8783, -1.0815],\n",
      "        [-0.4722, -1.4077],\n",
      "        [ 0.1077, -0.9611]]) \n",
      " tensor([[ 2.7836],\n",
      "        [ 7.1231],\n",
      "        [ 2.1227],\n",
      "        [ 1.2991],\n",
      "        [ 6.4612],\n",
      "        [-1.3587],\n",
      "        [10.5591],\n",
      "        [11.6270],\n",
      "        [ 8.0404],\n",
      "        [ 7.6859]])\n"
     ]
    }
   ],
   "source": [
    "batch_size = 10\n",
    "for X, y in data_iter(batch_size, features, labels):\n",
    "    print(X, '\\n', y)\n",
    "    break"
   ]
  },
  {
   "cell_type": "code",
   "execution_count": 27,
   "id": "7729e703",
   "metadata": {},
   "outputs": [
    {
     "data": {
      "text/plain": [
       "(tensor([0., 0.], requires_grad=True), tensor([0.], requires_grad=True))"
      ]
     },
     "execution_count": 27,
     "metadata": {},
     "output_type": "execute_result"
    }
   ],
   "source": [
    "#初始化参数 \n",
    "#w = torch.normal(0, 0.01, size=(2, 1), requires_grad=True)\n",
    "w = torch.tensor([0., 0.], requires_grad=True)\n",
    "b = torch.zeros(1, requires_grad=True)\n",
    "w, b"
   ]
  },
  {
   "cell_type": "code",
   "execution_count": 17,
   "id": "18e08584",
   "metadata": {},
   "outputs": [],
   "source": [
    "#定义模型\n",
    "def linreg(X, w, b):\n",
    "    return torch.matmul(X, w) + b\n",
    "#损失函数\n",
    "def squared_loss(y_hat, y):\n",
    "    return (y_hat - y.reshape(y_hat.shape)) ** 2 / 2\n",
    "#优化算法\n",
    "def sgd(params, lr, batch_size):\n",
    "    '''小批量随机梯度下降'''\n",
    "    with torch.no_grad():\n",
    "        for param in params:\n",
    "            param -= lr * param.grad / batch_size\n",
    "            param.grad.zero_()\n",
    "            "
   ]
  },
  {
   "cell_type": "code",
   "execution_count": 29,
   "id": "6322e4a5",
   "metadata": {},
   "outputs": [
    {
     "name": "stdout",
     "output_type": "stream",
     "text": [
      "epoch 1,loss 0.000159\n",
      "epoch 2,loss 0.000158\n",
      "epoch 3,loss 0.000158\n",
      "epoch 4,loss 0.000157\n",
      "epoch 5,loss 0.000156\n",
      "epoch 6,loss 0.000155\n",
      "epoch 7,loss 0.000155\n",
      "epoch 8,loss 0.000155\n",
      "epoch 9,loss 0.000154\n",
      "epoch 10,loss 0.000153\n",
      "epoch 11,loss 0.000152\n",
      "epoch 12,loss 0.000151\n",
      "epoch 13,loss 0.000151\n",
      "epoch 14,loss 0.000150\n",
      "epoch 15,loss 0.000150\n",
      "epoch 16,loss 0.000149\n",
      "epoch 17,loss 0.000149\n",
      "epoch 18,loss 0.000149\n",
      "epoch 19,loss 0.000148\n",
      "epoch 20,loss 0.000147\n",
      "epoch 21,loss 0.000147\n",
      "epoch 22,loss 0.000146\n",
      "epoch 23,loss 0.000146\n",
      "epoch 24,loss 0.000145\n",
      "epoch 25,loss 0.000145\n",
      "epoch 26,loss 0.000144\n",
      "epoch 27,loss 0.000143\n",
      "epoch 28,loss 0.000143\n",
      "epoch 29,loss 0.000142\n",
      "epoch 30,loss 0.000142\n",
      "epoch 31,loss 0.000141\n",
      "epoch 32,loss 0.000141\n",
      "epoch 33,loss 0.000141\n",
      "epoch 34,loss 0.000140\n",
      "epoch 35,loss 0.000139\n",
      "epoch 36,loss 0.000138\n",
      "epoch 37,loss 0.000138\n",
      "epoch 38,loss 0.000137\n",
      "epoch 39,loss 0.000137\n",
      "epoch 40,loss 0.000136\n",
      "epoch 41,loss 0.000136\n",
      "epoch 42,loss 0.000135\n",
      "epoch 43,loss 0.000135\n",
      "epoch 44,loss 0.000134\n",
      "epoch 45,loss 0.000133\n",
      "epoch 46,loss 0.000133\n",
      "epoch 47,loss 0.000132\n",
      "epoch 48,loss 0.000131\n",
      "epoch 49,loss 0.000131\n",
      "epoch 50,loss 0.000131\n",
      "epoch 51,loss 0.000130\n",
      "epoch 52,loss 0.000130\n",
      "epoch 53,loss 0.000129\n",
      "epoch 54,loss 0.000129\n",
      "epoch 55,loss 0.000128\n",
      "epoch 56,loss 0.000128\n",
      "epoch 57,loss 0.000127\n",
      "epoch 58,loss 0.000127\n",
      "epoch 59,loss 0.000126\n",
      "epoch 60,loss 0.000126\n",
      "epoch 61,loss 0.000126\n",
      "epoch 62,loss 0.000125\n",
      "epoch 63,loss 0.000124\n",
      "epoch 64,loss 0.000124\n",
      "epoch 65,loss 0.000124\n",
      "epoch 66,loss 0.000123\n",
      "epoch 67,loss 0.000123\n",
      "epoch 68,loss 0.000122\n",
      "epoch 69,loss 0.000121\n",
      "epoch 70,loss 0.000121\n",
      "epoch 71,loss 0.000121\n",
      "epoch 72,loss 0.000120\n",
      "epoch 73,loss 0.000120\n",
      "epoch 74,loss 0.000119\n",
      "epoch 75,loss 0.000119\n",
      "epoch 76,loss 0.000119\n",
      "epoch 77,loss 0.000118\n",
      "epoch 78,loss 0.000118\n",
      "epoch 79,loss 0.000117\n",
      "epoch 80,loss 0.000117\n",
      "epoch 81,loss 0.000117\n",
      "epoch 82,loss 0.000116\n",
      "epoch 83,loss 0.000116\n",
      "epoch 84,loss 0.000115\n",
      "epoch 85,loss 0.000115\n",
      "epoch 86,loss 0.000114\n",
      "epoch 87,loss 0.000114\n",
      "epoch 88,loss 0.000114\n",
      "epoch 89,loss 0.000113\n",
      "epoch 90,loss 0.000113\n",
      "epoch 91,loss 0.000112\n",
      "epoch 92,loss 0.000112\n",
      "epoch 93,loss 0.000112\n",
      "epoch 94,loss 0.000112\n",
      "epoch 95,loss 0.000111\n",
      "epoch 96,loss 0.000111\n",
      "epoch 97,loss 0.000111\n",
      "epoch 98,loss 0.000110\n",
      "epoch 99,loss 0.000110\n",
      "epoch 100,loss 0.000110\n",
      "epoch 101,loss 0.000109\n",
      "epoch 102,loss 0.000109\n",
      "epoch 103,loss 0.000109\n",
      "epoch 104,loss 0.000108\n",
      "epoch 105,loss 0.000108\n",
      "epoch 106,loss 0.000108\n",
      "epoch 107,loss 0.000108\n",
      "epoch 108,loss 0.000107\n",
      "epoch 109,loss 0.000107\n",
      "epoch 110,loss 0.000107\n",
      "epoch 111,loss 0.000106\n",
      "epoch 112,loss 0.000106\n",
      "epoch 113,loss 0.000105\n",
      "epoch 114,loss 0.000105\n",
      "epoch 115,loss 0.000105\n",
      "epoch 116,loss 0.000104\n",
      "epoch 117,loss 0.000104\n",
      "epoch 118,loss 0.000103\n",
      "epoch 119,loss 0.000103\n",
      "epoch 120,loss 0.000103\n",
      "epoch 121,loss 0.000103\n",
      "epoch 122,loss 0.000102\n",
      "epoch 123,loss 0.000102\n",
      "epoch 124,loss 0.000102\n",
      "epoch 125,loss 0.000101\n",
      "epoch 126,loss 0.000100\n",
      "epoch 127,loss 0.000100\n",
      "epoch 128,loss 0.000100\n",
      "epoch 129,loss 0.000100\n",
      "epoch 130,loss 0.000100\n",
      "epoch 131,loss 0.000099\n",
      "epoch 132,loss 0.000099\n",
      "epoch 133,loss 0.000098\n",
      "epoch 134,loss 0.000098\n",
      "epoch 135,loss 0.000098\n",
      "epoch 136,loss 0.000098\n",
      "epoch 137,loss 0.000098\n",
      "epoch 138,loss 0.000097\n",
      "epoch 139,loss 0.000097\n",
      "epoch 140,loss 0.000097\n",
      "epoch 141,loss 0.000096\n",
      "epoch 142,loss 0.000096\n",
      "epoch 143,loss 0.000096\n",
      "epoch 144,loss 0.000096\n",
      "epoch 145,loss 0.000095\n",
      "epoch 146,loss 0.000095\n",
      "epoch 147,loss 0.000094\n",
      "epoch 148,loss 0.000094\n",
      "epoch 149,loss 0.000094\n",
      "epoch 150,loss 0.000094\n",
      "epoch 151,loss 0.000094\n",
      "epoch 152,loss 0.000093\n",
      "epoch 153,loss 0.000093\n",
      "epoch 154,loss 0.000093\n",
      "epoch 155,loss 0.000093\n",
      "epoch 156,loss 0.000093\n",
      "epoch 157,loss 0.000092\n",
      "epoch 158,loss 0.000092\n",
      "epoch 159,loss 0.000092\n",
      "epoch 160,loss 0.000091\n",
      "epoch 161,loss 0.000091\n",
      "epoch 162,loss 0.000091\n",
      "epoch 163,loss 0.000090\n",
      "epoch 164,loss 0.000090\n",
      "epoch 165,loss 0.000090\n",
      "epoch 166,loss 0.000089\n",
      "epoch 167,loss 0.000089\n",
      "epoch 168,loss 0.000089\n",
      "epoch 169,loss 0.000089\n",
      "epoch 170,loss 0.000088\n",
      "epoch 171,loss 0.000088\n",
      "epoch 172,loss 0.000088\n",
      "epoch 173,loss 0.000088\n",
      "epoch 174,loss 0.000087\n",
      "epoch 175,loss 0.000087\n",
      "epoch 176,loss 0.000087\n",
      "epoch 177,loss 0.000087\n",
      "epoch 178,loss 0.000086\n",
      "epoch 179,loss 0.000086\n",
      "epoch 180,loss 0.000086\n",
      "epoch 181,loss 0.000086\n",
      "epoch 182,loss 0.000085\n",
      "epoch 183,loss 0.000085\n",
      "epoch 184,loss 0.000084\n",
      "epoch 185,loss 0.000084\n",
      "epoch 186,loss 0.000083\n",
      "epoch 187,loss 0.000083\n",
      "epoch 188,loss 0.000083\n",
      "epoch 189,loss 0.000083\n",
      "epoch 190,loss 0.000083\n",
      "epoch 191,loss 0.000082\n",
      "epoch 192,loss 0.000082\n",
      "epoch 193,loss 0.000082\n",
      "epoch 194,loss 0.000082\n",
      "epoch 195,loss 0.000082\n",
      "epoch 196,loss 0.000082\n",
      "epoch 197,loss 0.000081\n",
      "epoch 198,loss 0.000081\n",
      "epoch 199,loss 0.000081\n",
      "epoch 200,loss 0.000081\n",
      "w的估计误差:tensor([ 0.0040, -0.0053], grad_fn=<SubBackward0>)\n",
      "b的估计误差：tensor([0.0059], grad_fn=<RsubBackward1>)\n"
     ]
    }
   ],
   "source": [
    "lr = 0.003\n",
    "num_epochs = 200\n",
    "net = linreg\n",
    "loss = squared_loss\n",
    "for epoch in range(num_epochs):\n",
    "    for X, y in data_iter(batch_size, features, labels):\n",
    "        l = loss(net(X, w, b), y)\n",
    "        l.sum().backward()\n",
    "        sgd([w, b], lr, batch_size)\n",
    "    with torch.no_grad():\n",
    "        train_l = loss(net(features, w, b), labels)\n",
    "        print(f'epoch {epoch+1},loss {float(train_l.mean()):f}')\n",
    "print(f'w的估计误差:{true_w - w.reshape(true_w.shape)}\\nb的估计误差：{true_b-b}')"
   ]
  },
  {
   "cell_type": "code",
   "execution_count": 33,
   "id": "7bc4a93d",
   "metadata": {},
   "outputs": [
    {
     "data": {
      "text/plain": [
       "[tensor([[ 0.5136, -1.7730],\n",
       "         [ 1.7381,  1.2246],\n",
       "         [-0.9184, -0.2634],\n",
       "         [-0.5528,  0.5324],\n",
       "         [-0.3762,  0.0960],\n",
       "         [-1.4314,  0.1274],\n",
       "         [-2.6753, -0.1933],\n",
       "         [ 1.4843,  2.8269],\n",
       "         [ 1.5765,  1.0812],\n",
       "         [ 0.0989,  2.1650]]),\n",
       " tensor([[11.2526],\n",
       "         [ 3.5265],\n",
       "         [ 3.2486],\n",
       "         [ 1.2731],\n",
       "         [ 3.1381],\n",
       "         [ 0.8914],\n",
       "         [-0.4858],\n",
       "         [-2.4550],\n",
       "         [ 3.6915],\n",
       "         [-2.9537]])]"
      ]
     },
     "execution_count": 33,
     "metadata": {},
     "output_type": "execute_result"
    }
   ],
   "source": [
    "#API简介实现线性回归\n",
    "from torch.utils import data\n",
    "def load_array(data_arrays, batch_size, is_train=True):\n",
    "    dataset = data.TensorDataset(*data_arrays)\n",
    "    return data.DataLoader(dataset, batch_size, shuffle=is_train)\n",
    "batch_size = 10\n",
    "data_iter = load_array((features, labels), batch_size)\n",
    "next(iter(data_iter))"
   ]
  },
  {
   "cell_type": "code",
   "execution_count": 34,
   "id": "422f4690",
   "metadata": {},
   "outputs": [],
   "source": [
    "from torch import nn\n",
    "net = nn.Sequential(nn.Linear(2, 1))"
   ]
  },
  {
   "cell_type": "code",
   "execution_count": 38,
   "id": "b5ba67be",
   "metadata": {},
   "outputs": [
    {
     "data": {
      "text/plain": [
       "tensor([0.])"
      ]
     },
     "execution_count": 38,
     "metadata": {},
     "output_type": "execute_result"
    }
   ],
   "source": [
    "net[0].weight.data.normal_(0, 0.01)\n",
    "net[0].bias.data.fill_(0)"
   ]
  },
  {
   "cell_type": "code",
   "execution_count": 39,
   "id": "541dc150",
   "metadata": {},
   "outputs": [],
   "source": [
    "loss = nn.MSELoss()\n",
    "trainer = torch.optim.SGD(net.parameters(), lr=0.03)"
   ]
  },
  {
   "cell_type": "code",
   "execution_count": 40,
   "id": "68bf10bb",
   "metadata": {},
   "outputs": [
    {
     "name": "stdout",
     "output_type": "stream",
     "text": [
      "epoch 1, loss 0.000247\n",
      "epoch 2, loss 0.000094\n",
      "epoch 3, loss 0.000093\n"
     ]
    }
   ],
   "source": [
    "num_epochs = 3\n",
    "for epoch in range(num_epochs):\n",
    "    for X, y in data_iter:\n",
    "        l = loss(net(X), y)\n",
    "        trainer.zero_grad()\n",
    "        l.backward()\n",
    "        trainer.step()\n",
    "    l = loss(net(features), labels)\n",
    "    print(f'epoch {epoch + 1}, loss {l:f}')"
   ]
  },
  {
   "cell_type": "code",
   "execution_count": 41,
   "id": "a93e8940",
   "metadata": {},
   "outputs": [
    {
     "name": "stdout",
     "output_type": "stream",
     "text": [
      "w的估计误差:tensor([-0.0002, -0.0003])\n",
      "b的估计误差：tensor([0.0006])\n"
     ]
    }
   ],
   "source": [
    "w = net[0].weight.data\n",
    "\n",
    "b = net[0].bias.data\n",
    "print(f'w的估计误差:{true_w - w.reshape(true_w.shape)}\\nb的估计误差：{true_b-b}')"
   ]
  },
  {
   "cell_type": "code",
   "execution_count": null,
   "id": "e8392595",
   "metadata": {},
   "outputs": [],
   "source": []
  }
 ],
 "metadata": {
  "kernelspec": {
   "display_name": "Python 3 (ipykernel)",
   "language": "python",
   "name": "python3"
  },
  "language_info": {
   "codemirror_mode": {
    "name": "ipython",
    "version": 3
   },
   "file_extension": ".py",
   "mimetype": "text/x-python",
   "name": "python",
   "nbconvert_exporter": "python",
   "pygments_lexer": "ipython3",
   "version": "3.9.12"
  }
 },
 "nbformat": 4,
 "nbformat_minor": 5
}
