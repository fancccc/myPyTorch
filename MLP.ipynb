{
 "cells": [
  {
   "cell_type": "code",
   "execution_count": 8,
   "id": "3aa2ac60",
   "metadata": {},
   "outputs": [],
   "source": [
    "import torch\n",
    "from torch import nn\n",
    "import torchvision\n",
    "from torch.utils import data\n",
    "from torchvision import transforms\n",
    "import matplotlib.pyplot as plt\n",
    "import os\n",
    "os.environ['KMP_DUPLICATE_LIB_OK'] = 'TRUE'"
   ]
  },
  {
   "cell_type": "code",
   "execution_count": 9,
   "id": "7142889b",
   "metadata": {},
   "outputs": [],
   "source": [
    "batch_size = 256\n",
    "trans = transforms.ToTensor()\n",
    "mnist_train = torchvision.datasets.FashionMNIST(root='D:\\桌面\\pyTorch\\data', train=True, transform=trans, download=False)\n",
    "mnist_test = torchvision.datasets.FashionMNIST(root='D:\\桌面\\pyTorch\\data', train=False, transform=trans, download=False)\n",
    "train_iter = data.DataLoader(mnist_train, batch_size, shuffle=True, num_workers=4)\n",
    "test_iter = data.DataLoader(mnist_test, batch_size, shuffle=False, num_workers=4)"
   ]
  },
  {
   "cell_type": "code",
   "execution_count": 21,
   "id": "61143c74",
   "metadata": {},
   "outputs": [
    {
     "data": {
      "text/plain": [
       "[Parameter containing:\n",
       " tensor([[ 0.0280, -0.0095,  0.0028,  ..., -0.0146,  0.0120, -0.0131],\n",
       "         [ 0.0066,  0.0016,  0.0005,  ...,  0.0016,  0.0043,  0.0058],\n",
       "         [ 0.0017,  0.0143, -0.0135,  ..., -0.0027,  0.0023,  0.0040],\n",
       "         ...,\n",
       "         [-0.0020,  0.0052,  0.0163,  ..., -0.0046,  0.0300, -0.0017],\n",
       "         [ 0.0153,  0.0084,  0.0124,  ..., -0.0105,  0.0132,  0.0062],\n",
       "         [ 0.0199,  0.0079,  0.0034,  ...,  0.0130,  0.0014,  0.0019]],\n",
       "        requires_grad=True),\n",
       " Parameter containing:\n",
       " tensor([0., 0., 0., 0., 0., 0., 0., 0., 0., 0., 0., 0., 0., 0., 0., 0., 0., 0., 0., 0., 0., 0., 0., 0.,\n",
       "         0., 0., 0., 0., 0., 0., 0., 0., 0., 0., 0., 0., 0., 0., 0., 0., 0., 0., 0., 0., 0., 0., 0., 0.,\n",
       "         0., 0., 0., 0., 0., 0., 0., 0., 0., 0., 0., 0., 0., 0., 0., 0., 0., 0., 0., 0., 0., 0., 0., 0.,\n",
       "         0., 0., 0., 0., 0., 0., 0., 0., 0., 0., 0., 0., 0., 0., 0., 0., 0., 0., 0., 0., 0., 0., 0., 0.,\n",
       "         0., 0., 0., 0., 0., 0., 0., 0., 0., 0., 0., 0., 0., 0., 0., 0., 0., 0., 0., 0., 0., 0., 0., 0.,\n",
       "         0., 0., 0., 0., 0., 0., 0., 0., 0., 0., 0., 0., 0., 0., 0., 0., 0., 0., 0., 0., 0., 0., 0., 0.,\n",
       "         0., 0., 0., 0., 0., 0., 0., 0., 0., 0., 0., 0., 0., 0., 0., 0., 0., 0., 0., 0., 0., 0., 0., 0.,\n",
       "         0., 0., 0., 0., 0., 0., 0., 0., 0., 0., 0., 0., 0., 0., 0., 0., 0., 0., 0., 0., 0., 0., 0., 0.,\n",
       "         0., 0., 0., 0., 0., 0., 0., 0., 0., 0., 0., 0., 0., 0., 0., 0., 0., 0., 0., 0., 0., 0., 0., 0.,\n",
       "         0., 0., 0., 0., 0., 0., 0., 0., 0., 0., 0., 0., 0., 0., 0., 0., 0., 0., 0., 0., 0., 0., 0., 0.,\n",
       "         0., 0., 0., 0., 0., 0., 0., 0., 0., 0., 0., 0., 0., 0., 0., 0.],\n",
       "        requires_grad=True),\n",
       " Parameter containing:\n",
       " tensor([[ 4.7581e-03, -2.2021e-02, -2.0289e-02,  ...,  1.8959e-02,\n",
       "          -1.1653e-02, -1.0562e-02],\n",
       "         [ 1.2811e-03, -2.1797e-03, -7.5258e-03,  ...,  1.6269e-02,\n",
       "          -6.2383e-03,  5.0215e-03],\n",
       "         [ 1.0567e-02, -4.4495e-03,  1.5871e-02,  ...,  1.1933e-02,\n",
       "           4.2783e-03, -7.9196e-03],\n",
       "         ...,\n",
       "         [-1.1606e-03,  7.0440e-03, -4.1053e-03,  ...,  9.3582e-03,\n",
       "          -1.0102e-02, -9.1358e-03],\n",
       "         [ 3.3590e-04,  9.7860e-03, -4.2816e-03,  ...,  9.8698e-03,\n",
       "          -1.2721e-02, -2.8760e-02],\n",
       "         [ 2.2686e-04,  6.0827e-03, -7.7657e-04,  ..., -8.5029e-05,\n",
       "           1.1484e-02, -2.1715e-02]], requires_grad=True),\n",
       " Parameter containing:\n",
       " tensor([0., 0., 0., 0., 0., 0., 0., 0., 0., 0.], requires_grad=True)]"
      ]
     },
     "execution_count": 21,
     "metadata": {},
     "output_type": "execute_result"
    }
   ],
   "source": [
    "num_inputs = 28 * 28\n",
    "num_outputs = 10\n",
    "num_hiddens = 256\n",
    "\n",
    "W1 = nn.Parameter(torch.randn(num_inputs, num_hiddens, requires_grad=True) * 0.01)\n",
    "b1 = nn.Parameter(torch.zeros(num_hiddens, requires_grad=True))\n",
    "W2 = nn.Parameter(torch.randn(num_hiddens, num_outputs, requires_grad=True) * 0.01)\n",
    "b2 = nn.Parameter(torch.zeros(num_outputs, requires_grad=True))\n",
    "\n",
    "params = [W1, b1, W2, b2]\n",
    "params"
   ]
  },
  {
   "cell_type": "code",
   "execution_count": 22,
   "id": "62ca9b60",
   "metadata": {},
   "outputs": [
    {
     "data": {
      "text/plain": [
       "(tensor([[-1,  2,  3],\n",
       "         [ 4,  5,  6]]),\n",
       " tensor([[0, 2, 3],\n",
       "         [4, 5, 6]]))"
      ]
     },
     "execution_count": 22,
     "metadata": {},
     "output_type": "execute_result"
    }
   ],
   "source": [
    "## 0 - 1\n",
    "def relu(X):\n",
    "    a = torch.zeros_like(X)\n",
    "    return torch.max(X, a)\n",
    "x[0,0] = -1\n",
    "x, relu(x)"
   ]
  },
  {
   "cell_type": "code",
   "execution_count": 14,
   "id": "8350f35c",
   "metadata": {},
   "outputs": [],
   "source": [
    "def net(X):\n",
    "    X = X.reshape((-1, num_inputs))\n",
    "    H = relu(X@W1 + b1)\n",
    "    return (H@W2 + b2)\n",
    "loss = nn.CrossEntropyLoss(reduction='none')"
   ]
  },
  {
   "cell_type": "code",
   "execution_count": 23,
   "id": "47aa8c8f",
   "metadata": {},
   "outputs": [
    {
     "name": "stdout",
     "output_type": "stream",
     "text": [
      "loss:1.036898611577352, acc:0.6375666666666666\n",
      "loss:0.5987261549631755, acc:0.7904166666666667\n",
      "loss:0.5170480818430583, acc:0.8187\n",
      "loss:0.47896006870269775, acc:0.83215\n",
      "loss:0.4564180746714274, acc:0.83975\n",
      "loss:0.43108238143920896, acc:0.8493\n",
      "loss:0.4182767381032308, acc:0.8536166666666667\n",
      "loss:0.4058627873102824, acc:0.8579166666666667\n",
      "loss:0.39535801480611166, acc:0.8607833333333333\n",
      "loss:0.38394451745351155, acc:0.8646333333333334\n"
     ]
    }
   ],
   "source": [
    "#device = torch.device('cuda')\n",
    "#net = net.to(device)\n",
    "class Accumulator:\n",
    "    def __init__(self, n):\n",
    "        self.data = [0.0] * n\n",
    "    def add(self, *args):\n",
    "        self.data = [a + float(b) for a, b in zip(self.data, args)]\n",
    "    def reset(self):\n",
    "        self.data = [0.0] * len(self.data)\n",
    "    def __getitem__(self, idx):\n",
    "        return self.data[idx]\n",
    "def accuracy(y_hat, y):\n",
    "    if len(y_hat.shape) > 1 and y_hat.shape[1] > 1:\n",
    "        y_hat = y_hat.argmax(axis=1)\n",
    "    cmp = y_hat.type(y.dtype) == y\n",
    "    return float(cmp.type(y.dtype).sum())\n",
    "\n",
    "def evaluate_accuracy(net, data_iter):\n",
    "    if isinstance(net, torch.nn.Module):\n",
    "        net.eval()\n",
    "    metric = Accumulator(2)\n",
    "    with torch.no_grad():\n",
    "        for X, y in data_iter:\n",
    "            metric.add(accuracy(net(X), y), y.numel())\n",
    "    \n",
    "    return metric[0] / metric[1]\n",
    "num_epochs = 10\n",
    "lr = 0.1\n",
    "updater = torch.optim.SGD(params, lr=lr)\n",
    "for epoch in range(num_epochs):\n",
    "    #net.train()\n",
    "    metric = Accumulator(3)\n",
    "    for X, y in train_iter:\n",
    "\n",
    "        #X = X.to(device)\n",
    "        #y = y.to(device)\n",
    "        y_hat = net(X)\n",
    "        l = loss(y_hat, y)\n",
    "        updater.zero_grad()\n",
    "        l.mean().backward()\n",
    "        #l.sum().backward()\n",
    "        updater.step()\n",
    "        metric.add(float(l.sum()), accuracy(y_hat, y), y.numel())\n",
    "    train_metrics = metric[0] / metric[2], metric[1] / metric[2]\n",
    "    train_loss, train_acc = train_metrics\n",
    "    print(f'loss:{train_loss}, acc:{train_acc}')"
   ]
  },
  {
   "cell_type": "code",
   "execution_count": 26,
   "id": "ad7be566",
   "metadata": {},
   "outputs": [
    {
     "name": "stdout",
     "output_type": "stream",
     "text": [
      "loss:1.0434727289835612, acc:0.6387\n",
      "loss:0.5982210199991862, acc:0.7891166666666667\n",
      "loss:0.5177928411483764, acc:0.81795\n",
      "loss:0.47709314778645834, acc:0.8314666666666667\n",
      "loss:0.4526896909713745, acc:0.8391666666666666\n",
      "loss:0.4343919444402059, acc:0.8462666666666666\n",
      "loss:0.4173558848063151, acc:0.8531\n",
      "loss:0.4060263474146525, acc:0.8564833333333334\n",
      "loss:0.3932321421941121, acc:0.8609833333333333\n",
      "loss:0.3833125560760498, acc:0.8654\n",
      "CPU cost time: 70.77964067459106\n"
     ]
    }
   ],
   "source": [
    "# 高级API CPU\n",
    "import time\n",
    "net = nn.Sequential(nn.Flatten(),\n",
    "                    nn.Linear(28*28, 256),\n",
    "                    nn.ReLU(),\n",
    "                    nn.Linear(256, 10))\n",
    "\n",
    "def init_weights(m):\n",
    "    if type(m) == nn.Linear:\n",
    "        nn.init.normal_(m.weight, std=0.01)\n",
    "net.apply(init_weights)\n",
    "\n",
    "batch_size = 256\n",
    "lr = 0.1\n",
    "num_epochs = 10\n",
    "loss = nn.CrossEntropyLoss(reduction='none')\n",
    "trainer = torch.optim.SGD(net.parameters(), lr=lr)\n",
    "start = time.time()\n",
    "for epoch in range(num_epochs):\n",
    "    #net.train()\n",
    "    metric = Accumulator(3)\n",
    "    for X, y in train_iter:\n",
    "\n",
    "        #X = X.to(device)\n",
    "        #y = y.to(device)\n",
    "        y_hat = net(X)\n",
    "        l = loss(y_hat, y)\n",
    "        trainer.zero_grad()\n",
    "        l.mean().backward()\n",
    "        #l.sum().backward()\n",
    "        trainer.step()\n",
    "        metric.add(float(l.sum()), accuracy(y_hat, y), y.numel())\n",
    "    train_metrics = metric[0] / metric[2], metric[1] / metric[2]\n",
    "    train_loss, train_acc = train_metrics\n",
    "    print(f'loss:{train_loss}, acc:{train_acc}')\n",
    "print('CPU cost time:', time.time() - start)"
   ]
  },
  {
   "cell_type": "code",
   "execution_count": 28,
   "id": "50429b7f",
   "metadata": {},
   "outputs": [
    {
     "name": "stdout",
     "output_type": "stream",
     "text": [
      "loss:1.037903574625651, acc:0.6416666666666667\n",
      "loss:0.5977546078999837, acc:0.7898\n",
      "loss:0.5200334239959716, acc:0.81805\n",
      "loss:0.4790892908732096, acc:0.8305333333333333\n",
      "loss:0.4503727414449056, acc:0.8411333333333333\n",
      "loss:0.43004126262664794, acc:0.8490333333333333\n",
      "loss:0.4187354042371114, acc:0.8526333333333334\n",
      "loss:0.40321351121266685, acc:0.8574666666666667\n",
      "loss:0.39181247444152834, acc:0.8615\n",
      "loss:0.38217796007792154, acc:0.8646166666666667\n",
      "GPU cost time: 64.6415102481842\n"
     ]
    }
   ],
   "source": [
    "# 高级API GPU\n",
    "device = torch.device('cuda')\n",
    "\n",
    "import time\n",
    "net = nn.Sequential(nn.Flatten(),\n",
    "                    nn.Linear(28*28, 256),\n",
    "                    nn.ReLU(),\n",
    "                    nn.Linear(256, 10))\n",
    "net = net.to(device)\n",
    "def init_weights(m):\n",
    "    if type(m) == nn.Linear:\n",
    "        nn.init.normal_(m.weight, std=0.01)\n",
    "net.apply(init_weights)\n",
    "\n",
    "batch_size = 256\n",
    "lr = 0.1\n",
    "num_epochs = 10\n",
    "loss = nn.CrossEntropyLoss(reduction='none')\n",
    "trainer = torch.optim.SGD(net.parameters(), lr=lr)\n",
    "start = time.time()\n",
    "for epoch in range(num_epochs):\n",
    "    #net.train()\n",
    "    metric = Accumulator(3)\n",
    "    for X, y in train_iter:\n",
    "        X = X.to(device)\n",
    "        y = y.to(device)\n",
    "        y_hat = net(X)\n",
    "        l = loss(y_hat, y)\n",
    "        trainer.zero_grad()\n",
    "        l.mean().backward()\n",
    "        #l.sum().backward()\n",
    "        trainer.step()\n",
    "        metric.add(float(l.sum()), accuracy(y_hat, y), y.numel())\n",
    "    train_metrics = metric[0] / metric[2], metric[1] / metric[2]\n",
    "    train_loss, train_acc = train_metrics\n",
    "    print(f'loss:{train_loss}, acc:{train_acc}')\n",
    "print('GPU cost time:', time.time() - start)"
   ]
  },
  {
   "cell_type": "code",
   "execution_count": null,
   "id": "30cdb3bf",
   "metadata": {},
   "outputs": [],
   "source": []
  }
 ],
 "metadata": {
  "kernelspec": {
   "display_name": "Python 3 (ipykernel)",
   "language": "python",
   "name": "python3"
  },
  "language_info": {
   "codemirror_mode": {
    "name": "ipython",
    "version": 3
   },
   "file_extension": ".py",
   "mimetype": "text/x-python",
   "name": "python",
   "nbconvert_exporter": "python",
   "pygments_lexer": "ipython3",
   "version": "3.9.12"
  }
 },
 "nbformat": 4,
 "nbformat_minor": 5
}
