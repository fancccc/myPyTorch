{
 "cells": [
  {
   "cell_type": "code",
   "execution_count": 1,
   "id": "30a60b58",
   "metadata": {},
   "outputs": [],
   "source": [
    "import pandas as pd\n",
    "import os\n",
    "os.environ['KMP_DUPLICATE_LIB_OK'] = 'TRUE'\n",
    "path = r'D:\\DATA\\PYTHON\\TIANCHI-贷款违约'"
   ]
  },
  {
   "cell_type": "code",
   "execution_count": 2,
   "id": "1dc48e6e",
   "metadata": {},
   "outputs": [
    {
     "data": {
      "text/plain": [
       "((800000, 47), (200000, 46))"
      ]
     },
     "execution_count": 2,
     "metadata": {},
     "output_type": "execute_result"
    }
   ],
   "source": [
    "train_data = pd.read_csv(os.path.join(path, 'train.csv'))\n",
    "test_data = pd.read_csv(os.path.join(path, 'testA.csv'))\n",
    "train_data.shape, test_data.shape"
   ]
  },
  {
   "cell_type": "code",
   "execution_count": 3,
   "id": "2f7ce5c9",
   "metadata": {},
   "outputs": [
    {
     "data": {
      "text/html": [
       "<div>\n",
       "<style scoped>\n",
       "    .dataframe tbody tr th:only-of-type {\n",
       "        vertical-align: middle;\n",
       "    }\n",
       "\n",
       "    .dataframe tbody tr th {\n",
       "        vertical-align: top;\n",
       "    }\n",
       "\n",
       "    .dataframe thead th {\n",
       "        text-align: right;\n",
       "    }\n",
       "</style>\n",
       "<table border=\"1\" class=\"dataframe\">\n",
       "  <thead>\n",
       "    <tr style=\"text-align: right;\">\n",
       "      <th></th>\n",
       "      <th>id</th>\n",
       "      <th>loanAmnt</th>\n",
       "      <th>term</th>\n",
       "      <th>n13</th>\n",
       "      <th>n14</th>\n",
       "    </tr>\n",
       "  </thead>\n",
       "  <tbody>\n",
       "    <tr>\n",
       "      <th>0</th>\n",
       "      <td>0</td>\n",
       "      <td>35000.0</td>\n",
       "      <td>5</td>\n",
       "      <td>0.0</td>\n",
       "      <td>2.0</td>\n",
       "    </tr>\n",
       "    <tr>\n",
       "      <th>1</th>\n",
       "      <td>1</td>\n",
       "      <td>18000.0</td>\n",
       "      <td>5</td>\n",
       "      <td>NaN</td>\n",
       "      <td>NaN</td>\n",
       "    </tr>\n",
       "    <tr>\n",
       "      <th>2</th>\n",
       "      <td>2</td>\n",
       "      <td>12000.0</td>\n",
       "      <td>5</td>\n",
       "      <td>0.0</td>\n",
       "      <td>4.0</td>\n",
       "    </tr>\n",
       "    <tr>\n",
       "      <th>3</th>\n",
       "      <td>3</td>\n",
       "      <td>11000.0</td>\n",
       "      <td>3</td>\n",
       "      <td>0.0</td>\n",
       "      <td>1.0</td>\n",
       "    </tr>\n",
       "  </tbody>\n",
       "</table>\n",
       "</div>"
      ],
      "text/plain": [
       "   id  loanAmnt  term  n13  n14\n",
       "0   0   35000.0     5  0.0  2.0\n",
       "1   1   18000.0     5  NaN  NaN\n",
       "2   2   12000.0     5  0.0  4.0\n",
       "3   3   11000.0     3  0.0  1.0"
      ]
     },
     "execution_count": 3,
     "metadata": {},
     "output_type": "execute_result"
    }
   ],
   "source": [
    "n_train = len(train_data)\n",
    "labels = train_data['isDefault']\n",
    "train_data.iloc[0:4, [0, 1, 2, -2, -1]]"
   ]
  },
  {
   "cell_type": "code",
   "execution_count": 4,
   "id": "119f8cf2",
   "metadata": {},
   "outputs": [
    {
     "data": {
      "text/plain": [
       "(1000000, 47)"
      ]
     },
     "execution_count": 4,
     "metadata": {},
     "output_type": "execute_result"
    }
   ],
   "source": [
    "all_data = pd.concat([train_data, test_data]).reset_index(drop=True)\n",
    "all_data.shape"
   ]
  },
  {
   "cell_type": "code",
   "execution_count": 6,
   "id": "522f0338",
   "metadata": {},
   "outputs": [
    {
     "data": {
      "text/html": [
       "<div>\n",
       "<style scoped>\n",
       "    .dataframe tbody tr th:only-of-type {\n",
       "        vertical-align: middle;\n",
       "    }\n",
       "\n",
       "    .dataframe tbody tr th {\n",
       "        vertical-align: top;\n",
       "    }\n",
       "\n",
       "    .dataframe thead th {\n",
       "        text-align: right;\n",
       "    }\n",
       "</style>\n",
       "<table border=\"1\" class=\"dataframe\">\n",
       "  <thead>\n",
       "    <tr style=\"text-align: right;\">\n",
       "      <th></th>\n",
       "      <th>loanAmnt</th>\n",
       "      <th>term</th>\n",
       "      <th>interestRate</th>\n",
       "      <th>installment</th>\n",
       "      <th>grade</th>\n",
       "      <th>subGrade</th>\n",
       "      <th>employmentTitle</th>\n",
       "      <th>employmentLength</th>\n",
       "      <th>homeOwnership</th>\n",
       "      <th>annualIncome</th>\n",
       "      <th>...</th>\n",
       "      <th>n5</th>\n",
       "      <th>n6</th>\n",
       "      <th>n7</th>\n",
       "      <th>n8</th>\n",
       "      <th>n9</th>\n",
       "      <th>n10</th>\n",
       "      <th>n11</th>\n",
       "      <th>n12</th>\n",
       "      <th>n13</th>\n",
       "      <th>n14</th>\n",
       "    </tr>\n",
       "  </thead>\n",
       "  <tbody>\n",
       "    <tr>\n",
       "      <th>0</th>\n",
       "      <td>35000.0</td>\n",
       "      <td>5</td>\n",
       "      <td>19.52</td>\n",
       "      <td>917.97</td>\n",
       "      <td>E</td>\n",
       "      <td>E2</td>\n",
       "      <td>320.0</td>\n",
       "      <td>2 years</td>\n",
       "      <td>2</td>\n",
       "      <td>110000.0</td>\n",
       "      <td>...</td>\n",
       "      <td>9.0</td>\n",
       "      <td>8.0</td>\n",
       "      <td>4.0</td>\n",
       "      <td>12.0</td>\n",
       "      <td>2.0</td>\n",
       "      <td>7.0</td>\n",
       "      <td>0.0</td>\n",
       "      <td>0.0</td>\n",
       "      <td>0.0</td>\n",
       "      <td>2.0</td>\n",
       "    </tr>\n",
       "    <tr>\n",
       "      <th>1</th>\n",
       "      <td>18000.0</td>\n",
       "      <td>5</td>\n",
       "      <td>18.49</td>\n",
       "      <td>461.90</td>\n",
       "      <td>D</td>\n",
       "      <td>D2</td>\n",
       "      <td>219843.0</td>\n",
       "      <td>5 years</td>\n",
       "      <td>0</td>\n",
       "      <td>46000.0</td>\n",
       "      <td>...</td>\n",
       "      <td>NaN</td>\n",
       "      <td>NaN</td>\n",
       "      <td>NaN</td>\n",
       "      <td>NaN</td>\n",
       "      <td>NaN</td>\n",
       "      <td>13.0</td>\n",
       "      <td>NaN</td>\n",
       "      <td>NaN</td>\n",
       "      <td>NaN</td>\n",
       "      <td>NaN</td>\n",
       "    </tr>\n",
       "    <tr>\n",
       "      <th>2</th>\n",
       "      <td>12000.0</td>\n",
       "      <td>5</td>\n",
       "      <td>16.99</td>\n",
       "      <td>298.17</td>\n",
       "      <td>D</td>\n",
       "      <td>D3</td>\n",
       "      <td>31698.0</td>\n",
       "      <td>8 years</td>\n",
       "      <td>0</td>\n",
       "      <td>74000.0</td>\n",
       "      <td>...</td>\n",
       "      <td>0.0</td>\n",
       "      <td>21.0</td>\n",
       "      <td>4.0</td>\n",
       "      <td>5.0</td>\n",
       "      <td>3.0</td>\n",
       "      <td>11.0</td>\n",
       "      <td>0.0</td>\n",
       "      <td>0.0</td>\n",
       "      <td>0.0</td>\n",
       "      <td>4.0</td>\n",
       "    </tr>\n",
       "    <tr>\n",
       "      <th>3</th>\n",
       "      <td>11000.0</td>\n",
       "      <td>3</td>\n",
       "      <td>7.26</td>\n",
       "      <td>340.96</td>\n",
       "      <td>A</td>\n",
       "      <td>A4</td>\n",
       "      <td>46854.0</td>\n",
       "      <td>10+ years</td>\n",
       "      <td>1</td>\n",
       "      <td>118000.0</td>\n",
       "      <td>...</td>\n",
       "      <td>16.0</td>\n",
       "      <td>4.0</td>\n",
       "      <td>7.0</td>\n",
       "      <td>21.0</td>\n",
       "      <td>6.0</td>\n",
       "      <td>9.0</td>\n",
       "      <td>0.0</td>\n",
       "      <td>0.0</td>\n",
       "      <td>0.0</td>\n",
       "      <td>1.0</td>\n",
       "    </tr>\n",
       "    <tr>\n",
       "      <th>4</th>\n",
       "      <td>3000.0</td>\n",
       "      <td>3</td>\n",
       "      <td>12.99</td>\n",
       "      <td>101.07</td>\n",
       "      <td>C</td>\n",
       "      <td>C2</td>\n",
       "      <td>54.0</td>\n",
       "      <td>NaN</td>\n",
       "      <td>1</td>\n",
       "      <td>29000.0</td>\n",
       "      <td>...</td>\n",
       "      <td>4.0</td>\n",
       "      <td>9.0</td>\n",
       "      <td>10.0</td>\n",
       "      <td>15.0</td>\n",
       "      <td>7.0</td>\n",
       "      <td>12.0</td>\n",
       "      <td>0.0</td>\n",
       "      <td>0.0</td>\n",
       "      <td>0.0</td>\n",
       "      <td>4.0</td>\n",
       "    </tr>\n",
       "    <tr>\n",
       "      <th>...</th>\n",
       "      <td>...</td>\n",
       "      <td>...</td>\n",
       "      <td>...</td>\n",
       "      <td>...</td>\n",
       "      <td>...</td>\n",
       "      <td>...</td>\n",
       "      <td>...</td>\n",
       "      <td>...</td>\n",
       "      <td>...</td>\n",
       "      <td>...</td>\n",
       "      <td>...</td>\n",
       "      <td>...</td>\n",
       "      <td>...</td>\n",
       "      <td>...</td>\n",
       "      <td>...</td>\n",
       "      <td>...</td>\n",
       "      <td>...</td>\n",
       "      <td>...</td>\n",
       "      <td>...</td>\n",
       "      <td>...</td>\n",
       "      <td>...</td>\n",
       "    </tr>\n",
       "    <tr>\n",
       "      <th>999995</th>\n",
       "      <td>7000.0</td>\n",
       "      <td>3</td>\n",
       "      <td>11.14</td>\n",
       "      <td>229.64</td>\n",
       "      <td>B</td>\n",
       "      <td>B2</td>\n",
       "      <td>330967.0</td>\n",
       "      <td>7 years</td>\n",
       "      <td>1</td>\n",
       "      <td>30000.0</td>\n",
       "      <td>...</td>\n",
       "      <td>6.0</td>\n",
       "      <td>11.0</td>\n",
       "      <td>2.0</td>\n",
       "      <td>6.0</td>\n",
       "      <td>2.0</td>\n",
       "      <td>8.0</td>\n",
       "      <td>0.0</td>\n",
       "      <td>0.0</td>\n",
       "      <td>0.0</td>\n",
       "      <td>4.0</td>\n",
       "    </tr>\n",
       "    <tr>\n",
       "      <th>999996</th>\n",
       "      <td>6000.0</td>\n",
       "      <td>3</td>\n",
       "      <td>6.24</td>\n",
       "      <td>183.19</td>\n",
       "      <td>A</td>\n",
       "      <td>A2</td>\n",
       "      <td>38930.0</td>\n",
       "      <td>1 year</td>\n",
       "      <td>1</td>\n",
       "      <td>56000.0</td>\n",
       "      <td>...</td>\n",
       "      <td>5.0</td>\n",
       "      <td>14.0</td>\n",
       "      <td>12.0</td>\n",
       "      <td>13.0</td>\n",
       "      <td>6.0</td>\n",
       "      <td>25.0</td>\n",
       "      <td>0.0</td>\n",
       "      <td>0.0</td>\n",
       "      <td>0.0</td>\n",
       "      <td>0.0</td>\n",
       "    </tr>\n",
       "    <tr>\n",
       "      <th>999997</th>\n",
       "      <td>14000.0</td>\n",
       "      <td>5</td>\n",
       "      <td>15.88</td>\n",
       "      <td>339.57</td>\n",
       "      <td>C</td>\n",
       "      <td>C4</td>\n",
       "      <td>282016.0</td>\n",
       "      <td>8 years</td>\n",
       "      <td>2</td>\n",
       "      <td>80000.0</td>\n",
       "      <td>...</td>\n",
       "      <td>21.0</td>\n",
       "      <td>18.0</td>\n",
       "      <td>21.0</td>\n",
       "      <td>42.0</td>\n",
       "      <td>13.0</td>\n",
       "      <td>21.0</td>\n",
       "      <td>0.0</td>\n",
       "      <td>0.0</td>\n",
       "      <td>0.0</td>\n",
       "      <td>0.0</td>\n",
       "    </tr>\n",
       "    <tr>\n",
       "      <th>999998</th>\n",
       "      <td>8000.0</td>\n",
       "      <td>3</td>\n",
       "      <td>18.06</td>\n",
       "      <td>289.47</td>\n",
       "      <td>D</td>\n",
       "      <td>D2</td>\n",
       "      <td>97.0</td>\n",
       "      <td>4 years</td>\n",
       "      <td>1</td>\n",
       "      <td>190000.0</td>\n",
       "      <td>...</td>\n",
       "      <td>12.0</td>\n",
       "      <td>5.0</td>\n",
       "      <td>8.0</td>\n",
       "      <td>19.0</td>\n",
       "      <td>6.0</td>\n",
       "      <td>11.0</td>\n",
       "      <td>0.0</td>\n",
       "      <td>0.0</td>\n",
       "      <td>0.0</td>\n",
       "      <td>2.0</td>\n",
       "    </tr>\n",
       "    <tr>\n",
       "      <th>999999</th>\n",
       "      <td>8000.0</td>\n",
       "      <td>3</td>\n",
       "      <td>6.68</td>\n",
       "      <td>245.85</td>\n",
       "      <td>A</td>\n",
       "      <td>A3</td>\n",
       "      <td>320.0</td>\n",
       "      <td>7 years</td>\n",
       "      <td>1</td>\n",
       "      <td>46000.0</td>\n",
       "      <td>...</td>\n",
       "      <td>3.0</td>\n",
       "      <td>4.0</td>\n",
       "      <td>3.0</td>\n",
       "      <td>4.0</td>\n",
       "      <td>2.0</td>\n",
       "      <td>4.0</td>\n",
       "      <td>0.0</td>\n",
       "      <td>0.0</td>\n",
       "      <td>0.0</td>\n",
       "      <td>0.0</td>\n",
       "    </tr>\n",
       "  </tbody>\n",
       "</table>\n",
       "<p>1000000 rows × 46 columns</p>\n",
       "</div>"
      ],
      "text/plain": [
       "        loanAmnt  term  interestRate  installment grade subGrade  \\\n",
       "0        35000.0     5         19.52       917.97     E       E2   \n",
       "1        18000.0     5         18.49       461.90     D       D2   \n",
       "2        12000.0     5         16.99       298.17     D       D3   \n",
       "3        11000.0     3          7.26       340.96     A       A4   \n",
       "4         3000.0     3         12.99       101.07     C       C2   \n",
       "...          ...   ...           ...          ...   ...      ...   \n",
       "999995    7000.0     3         11.14       229.64     B       B2   \n",
       "999996    6000.0     3          6.24       183.19     A       A2   \n",
       "999997   14000.0     5         15.88       339.57     C       C4   \n",
       "999998    8000.0     3         18.06       289.47     D       D2   \n",
       "999999    8000.0     3          6.68       245.85     A       A3   \n",
       "\n",
       "        employmentTitle employmentLength  homeOwnership  annualIncome  ...  \\\n",
       "0                 320.0          2 years              2      110000.0  ...   \n",
       "1              219843.0          5 years              0       46000.0  ...   \n",
       "2               31698.0          8 years              0       74000.0  ...   \n",
       "3               46854.0        10+ years              1      118000.0  ...   \n",
       "4                  54.0              NaN              1       29000.0  ...   \n",
       "...                 ...              ...            ...           ...  ...   \n",
       "999995         330967.0          7 years              1       30000.0  ...   \n",
       "999996          38930.0           1 year              1       56000.0  ...   \n",
       "999997         282016.0          8 years              2       80000.0  ...   \n",
       "999998             97.0          4 years              1      190000.0  ...   \n",
       "999999            320.0          7 years              1       46000.0  ...   \n",
       "\n",
       "          n5    n6    n7    n8    n9   n10  n11  n12  n13  n14  \n",
       "0        9.0   8.0   4.0  12.0   2.0   7.0  0.0  0.0  0.0  2.0  \n",
       "1        NaN   NaN   NaN   NaN   NaN  13.0  NaN  NaN  NaN  NaN  \n",
       "2        0.0  21.0   4.0   5.0   3.0  11.0  0.0  0.0  0.0  4.0  \n",
       "3       16.0   4.0   7.0  21.0   6.0   9.0  0.0  0.0  0.0  1.0  \n",
       "4        4.0   9.0  10.0  15.0   7.0  12.0  0.0  0.0  0.0  4.0  \n",
       "...      ...   ...   ...   ...   ...   ...  ...  ...  ...  ...  \n",
       "999995   6.0  11.0   2.0   6.0   2.0   8.0  0.0  0.0  0.0  4.0  \n",
       "999996   5.0  14.0  12.0  13.0   6.0  25.0  0.0  0.0  0.0  0.0  \n",
       "999997  21.0  18.0  21.0  42.0  13.0  21.0  0.0  0.0  0.0  0.0  \n",
       "999998  12.0   5.0   8.0  19.0   6.0  11.0  0.0  0.0  0.0  2.0  \n",
       "999999   3.0   4.0   3.0   4.0   2.0   4.0  0.0  0.0  0.0  0.0  \n",
       "\n",
       "[1000000 rows x 46 columns]"
      ]
     },
     "execution_count": 6,
     "metadata": {},
     "output_type": "execute_result"
    }
   ],
   "source": [
    "all_data = all_data.iloc[:, 1:]\n",
    "all_data"
   ]
  },
  {
   "cell_type": "code",
   "execution_count": 7,
   "id": "9f49771f",
   "metadata": {},
   "outputs": [
    {
     "data": {
      "text/plain": [
       "Index(['grade', 'subGrade', 'employmentLength', 'issueDate',\n",
       "       'earliesCreditLine'],\n",
       "      dtype='object')"
      ]
     },
     "execution_count": 7,
     "metadata": {},
     "output_type": "execute_result"
    }
   ],
   "source": [
    "object_features = all_data.dtypes[all_data.dtypes == 'object'].index\n",
    "object_features"
   ]
  },
  {
   "cell_type": "code",
   "execution_count": 8,
   "id": "79f99a88",
   "metadata": {},
   "outputs": [
    {
     "data": {
      "text/html": [
       "<div>\n",
       "<style scoped>\n",
       "    .dataframe tbody tr th:only-of-type {\n",
       "        vertical-align: middle;\n",
       "    }\n",
       "\n",
       "    .dataframe tbody tr th {\n",
       "        vertical-align: top;\n",
       "    }\n",
       "\n",
       "    .dataframe thead th {\n",
       "        text-align: right;\n",
       "    }\n",
       "</style>\n",
       "<table border=\"1\" class=\"dataframe\">\n",
       "  <thead>\n",
       "    <tr style=\"text-align: right;\">\n",
       "      <th></th>\n",
       "      <th>grade</th>\n",
       "      <th>subGrade</th>\n",
       "      <th>employmentLength</th>\n",
       "      <th>issueDate</th>\n",
       "      <th>earliesCreditLine</th>\n",
       "    </tr>\n",
       "  </thead>\n",
       "  <tbody>\n",
       "    <tr>\n",
       "      <th>0</th>\n",
       "      <td>E</td>\n",
       "      <td>E2</td>\n",
       "      <td>2 years</td>\n",
       "      <td>2014-07-01</td>\n",
       "      <td>Aug-2001</td>\n",
       "    </tr>\n",
       "    <tr>\n",
       "      <th>1</th>\n",
       "      <td>D</td>\n",
       "      <td>D2</td>\n",
       "      <td>5 years</td>\n",
       "      <td>2012-08-01</td>\n",
       "      <td>May-2002</td>\n",
       "    </tr>\n",
       "    <tr>\n",
       "      <th>2</th>\n",
       "      <td>D</td>\n",
       "      <td>D3</td>\n",
       "      <td>8 years</td>\n",
       "      <td>2015-10-01</td>\n",
       "      <td>May-2006</td>\n",
       "    </tr>\n",
       "    <tr>\n",
       "      <th>3</th>\n",
       "      <td>A</td>\n",
       "      <td>A4</td>\n",
       "      <td>10+ years</td>\n",
       "      <td>2015-08-01</td>\n",
       "      <td>May-1999</td>\n",
       "    </tr>\n",
       "    <tr>\n",
       "      <th>4</th>\n",
       "      <td>C</td>\n",
       "      <td>C2</td>\n",
       "      <td>NaN</td>\n",
       "      <td>2016-03-01</td>\n",
       "      <td>Aug-1977</td>\n",
       "    </tr>\n",
       "    <tr>\n",
       "      <th>5</th>\n",
       "      <td>A</td>\n",
       "      <td>A5</td>\n",
       "      <td>7 years</td>\n",
       "      <td>2017-04-01</td>\n",
       "      <td>Jul-1998</td>\n",
       "    </tr>\n",
       "  </tbody>\n",
       "</table>\n",
       "</div>"
      ],
      "text/plain": [
       "  grade subGrade employmentLength   issueDate earliesCreditLine\n",
       "0     E       E2          2 years  2014-07-01          Aug-2001\n",
       "1     D       D2          5 years  2012-08-01          May-2002\n",
       "2     D       D3          8 years  2015-10-01          May-2006\n",
       "3     A       A4        10+ years  2015-08-01          May-1999\n",
       "4     C       C2              NaN  2016-03-01          Aug-1977\n",
       "5     A       A5          7 years  2017-04-01          Jul-1998"
      ]
     },
     "execution_count": 8,
     "metadata": {},
     "output_type": "execute_result"
    }
   ],
   "source": [
    "all_data.loc[:5, object_features]"
   ]
  },
  {
   "cell_type": "code",
   "execution_count": 12,
   "id": "eaff7aba",
   "metadata": {},
   "outputs": [
    {
     "data": {
      "text/plain": [
       "0      E\n",
       "1      D\n",
       "3      A\n",
       "4      C\n",
       "9      B\n",
       "46     F\n",
       "246    G\n",
       "Name: grade, dtype: object"
      ]
     },
     "execution_count": 12,
     "metadata": {},
     "output_type": "execute_result"
    }
   ],
   "source": [
    "#grade\n",
    "all_data['grade'].drop_duplicates()"
   ]
  },
  {
   "cell_type": "code",
   "execution_count": 14,
   "id": "71d87b5b",
   "metadata": {},
   "outputs": [
    {
     "data": {
      "text/plain": [
       "0         5\n",
       "1         4\n",
       "2         4\n",
       "3         1\n",
       "4         3\n",
       "         ..\n",
       "999995    2\n",
       "999996    1\n",
       "999997    3\n",
       "999998    4\n",
       "999999    1\n",
       "Name: grade, Length: 1000000, dtype: int64"
      ]
     },
     "execution_count": 14,
     "metadata": {},
     "output_type": "execute_result"
    }
   ],
   "source": [
    "def to_num(x):\n",
    "    if x == 'A':\n",
    "        return 1\n",
    "    elif x == 'B':\n",
    "        return 2\n",
    "    elif x == 'C':\n",
    "        return 3\n",
    "    elif x == 'D':\n",
    "        return 4\n",
    "    elif x == 'E':\n",
    "        return 5\n",
    "    elif x == 'F':\n",
    "        return 6\n",
    "    elif x == 'G':\n",
    "        return 7\n",
    "    else:\n",
    "        return x\n",
    "all_data['grade'] = all_data['grade'].apply(to_num)\n",
    "all_data['grade']"
   ]
  },
  {
   "cell_type": "code",
   "execution_count": 18,
   "id": "f8d0784e",
   "metadata": {},
   "outputs": [
    {
     "data": {
      "text/plain": [
       "0         5.2\n",
       "1         4.2\n",
       "2         4.3\n",
       "3         1.4\n",
       "4         3.2\n",
       "         ... \n",
       "999995    2.2\n",
       "999996    1.2\n",
       "999997    3.4\n",
       "999998    4.2\n",
       "999999    1.3\n",
       "Name: subGrade, Length: 1000000, dtype: float64"
      ]
     },
     "execution_count": 18,
     "metadata": {},
     "output_type": "execute_result"
    }
   ],
   "source": [
    "#subGrade\n",
    "import re\n",
    "def sub_to_num(x):\n",
    "    w = re.search('\\w{1}', x).group()\n",
    "    return float(x.replace(w, str(to_num(w)) + '.'))\n",
    "sub_to_num('A2')\n",
    "all_data['subGrade'] = all_data['subGrade'].apply(sub_to_num)\n",
    "all_data['subGrade']"
   ]
  },
  {
   "cell_type": "code",
   "execution_count": 19,
   "id": "2f45ab0f",
   "metadata": {},
   "outputs": [
    {
     "data": {
      "text/plain": [
       "0          2.0\n",
       "1          5.0\n",
       "2          8.0\n",
       "3         10.0\n",
       "4          NaN\n",
       "          ... \n",
       "999995     7.0\n",
       "999996     1.0\n",
       "999997     8.0\n",
       "999998     4.0\n",
       "999999     7.0\n",
       "Name: employmentLength, Length: 1000000, dtype: float64"
      ]
     },
     "execution_count": 19,
     "metadata": {},
     "output_type": "execute_result"
    }
   ],
   "source": [
    "#employmentLength\n",
    "def get_years(x):\n",
    "    try:\n",
    "        return float(re.search('\\d+', x).group())\n",
    "    except:\n",
    "        return x\n",
    "all_data['employmentLength'] = all_data['employmentLength'].apply(get_years)\n",
    "all_data['employmentLength']"
   ]
  },
  {
   "cell_type": "code",
   "execution_count": 21,
   "id": "e0596588",
   "metadata": {},
   "outputs": [
    {
     "data": {
      "text/plain": [
       "0         3222\n",
       "1         3921\n",
       "2         2765\n",
       "3         2826\n",
       "4         2613\n",
       "          ... \n",
       "999995    3860\n",
       "999996    2765\n",
       "999997    3587\n",
       "999998    2034\n",
       "999999    3007\n",
       "Name: issueDate, Length: 1000000, dtype: int64"
      ]
     },
     "execution_count": 21,
     "metadata": {},
     "output_type": "execute_result"
    }
   ],
   "source": [
    "#issueDate\n",
    "import datetime\n",
    "all_data['issueDate'] = all_data['issueDate'].apply(lambda x:pd.to_datetime(x,format='%Y-%m-%d'))\n",
    "nowtime = datetime.datetime.strptime('2023-04-27','%Y-%m-%d')\n",
    "all_data['issueDate'] = all_data['issueDate'].apply(lambda x: nowtime - x).dt.days\n",
    "all_data['issueDate']"
   ]
  },
  {
   "cell_type": "code",
   "execution_count": 24,
   "id": "62d77049",
   "metadata": {},
   "outputs": [
    {
     "data": {
      "text/plain": [
       "0          7939\n",
       "1          7666\n",
       "2          6205\n",
       "3          8762\n",
       "4         16705\n",
       "          ...  \n",
       "999995     6386\n",
       "999996     6052\n",
       "999997     7817\n",
       "999998     6478\n",
       "999999     7574\n",
       "Name: earliesCreditLine, Length: 1000000, dtype: int64"
      ]
     },
     "execution_count": 24,
     "metadata": {},
     "output_type": "execute_result"
    }
   ],
   "source": [
    "#earliesCreditLine\n",
    "datetime.datetime.strptime('Aug-2001', '%b-%Y')\n",
    "all_data['earliesCreditLine'] = all_data['earliesCreditLine'].apply(lambda x:pd.to_datetime(x,format='%b-%Y'))\n",
    "nowtime = datetime.datetime.strptime('2023-04-27','%Y-%m-%d')\n",
    "all_data['earliesCreditLine'] = all_data['earliesCreditLine'].apply(lambda x: nowtime - x).dt.days\n",
    "all_data['earliesCreditLine']"
   ]
  },
  {
   "cell_type": "code",
   "execution_count": 25,
   "id": "dd316887",
   "metadata": {},
   "outputs": [
    {
     "data": {
      "text/plain": [
       "['loanAmnt',\n",
       " 'term',\n",
       " 'interestRate',\n",
       " 'installment',\n",
       " 'grade',\n",
       " 'subGrade',\n",
       " 'employmentTitle',\n",
       " 'employmentLength',\n",
       " 'homeOwnership',\n",
       " 'annualIncome',\n",
       " 'verificationStatus',\n",
       " 'issueDate',\n",
       " 'purpose',\n",
       " 'postCode',\n",
       " 'regionCode',\n",
       " 'dti',\n",
       " 'delinquency_2years',\n",
       " 'ficoRangeLow',\n",
       " 'ficoRangeHigh',\n",
       " 'openAcc',\n",
       " 'pubRec',\n",
       " 'pubRecBankruptcies',\n",
       " 'revolBal',\n",
       " 'revolUtil',\n",
       " 'totalAcc',\n",
       " 'initialListStatus',\n",
       " 'applicationType',\n",
       " 'earliesCreditLine',\n",
       " 'title',\n",
       " 'policyCode',\n",
       " 'n0',\n",
       " 'n1',\n",
       " 'n2',\n",
       " 'n3',\n",
       " 'n4',\n",
       " 'n5',\n",
       " 'n6',\n",
       " 'n7',\n",
       " 'n8',\n",
       " 'n9',\n",
       " 'n10',\n",
       " 'n11',\n",
       " 'n12',\n",
       " 'n13',\n",
       " 'n14']"
      ]
     },
     "execution_count": 25,
     "metadata": {},
     "output_type": "execute_result"
    }
   ],
   "source": [
    "numeric_features = all_data.dtypes[all_data.dtypes != 'object'].index\n",
    "numeric_features = numeric_features.to_list()\n",
    "\n",
    "numeric_features.remove('isDefault')\n",
    "numeric_features"
   ]
  },
  {
   "cell_type": "code",
   "execution_count": 26,
   "id": "ceaf328e",
   "metadata": {},
   "outputs": [],
   "source": [
    "all_data[numeric_features] = all_data[numeric_features].apply(lambda x: (x-x.mean()) / x.std())"
   ]
  },
  {
   "cell_type": "code",
   "execution_count": 27,
   "id": "568c4402",
   "metadata": {},
   "outputs": [],
   "source": [
    "all_data[numeric_features] = all_data[numeric_features].fillna(0)"
   ]
  },
  {
   "cell_type": "code",
   "execution_count": 28,
   "id": "5f99094f",
   "metadata": {},
   "outputs": [
    {
     "data": {
      "text/plain": [
       "(1000000, 45)"
      ]
     },
     "execution_count": 28,
     "metadata": {},
     "output_type": "execute_result"
    }
   ],
   "source": [
    "all_data = pd.get_dummies(all_data.drop('isDefault', axis=1), dummy_na=True)\n",
    "all_data.shape"
   ]
  },
  {
   "cell_type": "code",
   "execution_count": 29,
   "id": "4a61b994",
   "metadata": {},
   "outputs": [],
   "source": [
    "import torch\n",
    "from torch import nn\n",
    "import time\n",
    "from d2l import torch as d2l\n",
    "from torch.utils import data"
   ]
  },
  {
   "cell_type": "code",
   "execution_count": 30,
   "id": "63b25785",
   "metadata": {},
   "outputs": [
    {
     "data": {
      "text/plain": [
       "((800000, 45), (200000, 45))"
      ]
     },
     "execution_count": 30,
     "metadata": {},
     "output_type": "execute_result"
    }
   ],
   "source": [
    "train_data = all_data.iloc[:n_train]\n",
    "test_data = all_data.iloc[n_train:]\n",
    "train_data.shape, test_data.shape\n",
    "#train_features = torch.tensor(all_data.iloc[:n_train])"
   ]
  },
  {
   "cell_type": "code",
   "execution_count": 31,
   "id": "70880078",
   "metadata": {},
   "outputs": [
    {
     "data": {
      "text/plain": [
       "(torch.Size([800000, 45]), torch.Size([800000]), torch.Size([200000, 45]))"
      ]
     },
     "execution_count": 31,
     "metadata": {},
     "output_type": "execute_result"
    }
   ],
   "source": [
    "#labels = pd.read_csv(os.path.join(path, 'train.csv'))['isDefault']\n",
    "#labels = pd.get_dummies(labels)\n",
    "train_features = torch.tensor(train_data.values, dtype=torch.float32)\n",
    "train_labels = torch.tensor(labels.values, dtype=torch.int64)\n",
    "test_features = torch.tensor(test_data.values, dtype=torch.float32)\n",
    "\n",
    "train_features.shape, train_labels.shape, test_features.shape"
   ]
  },
  {
   "cell_type": "code",
   "execution_count": 33,
   "id": "cc4866a9",
   "metadata": {},
   "outputs": [
    {
     "name": "stdout",
     "output_type": "stream",
     "text": [
      "torch.Size([128, 45]) torch.Size([128])\n"
     ]
    }
   ],
   "source": [
    "batch_size = 128\n",
    "train_iter = data.DataLoader(data.TensorDataset(train_features, train_labels), batch_size, shuffle=True, num_workers=4)\n",
    "#train_iter = data.DataLoader(data.TensorDataset(test_features), batch_size, shuffle=False, num_workers=4)\n",
    "for X, y in train_iter:\n",
    "    print(X.shape, y.shape)\n",
    "    break"
   ]
  },
  {
   "cell_type": "code",
   "execution_count": 34,
   "id": "6cfbb8f8",
   "metadata": {},
   "outputs": [],
   "source": [
    "def evaluate_accuracy(net, data_iter):  #@save\n",
    "    \"\"\"计算在指定数据集上模型的精度\"\"\"\n",
    "    if isinstance(net, torch.nn.Module):\n",
    "        net.eval()  # 将模型设置为评估模式\n",
    "    metric = Accumulator(2)  # 正确预测数、预测总数\n",
    "    with torch.no_grad():\n",
    "        for X, y in data_iter:\n",
    "            metric.add(accuracy(net(X), y), y.numel())\n",
    "    return metric[0] / metric[1]\n",
    "\n",
    "def accuracy(y_hat, y):  #@save\n",
    "    \"\"\"计算预测正确的数量\"\"\"\n",
    "    if len(y_hat.shape) > 1 and y_hat.shape[1] > 1:\n",
    "        y_hat = y_hat.argmax(axis=1)\n",
    "    cmp = y_hat.type(y.dtype) == y\n",
    "    return float(cmp.type(y.dtype).sum())\n",
    "\n",
    "class Accumulator:  #@save\n",
    "    \"\"\"在n个变量上累加\"\"\"\n",
    "    def __init__(self, n):\n",
    "        self.data = [0.0] * n\n",
    "\n",
    "    def add(self, *args):\n",
    "        self.data = [a + float(b) for a, b in zip(self.data, args)]\n",
    "\n",
    "    def reset(self):\n",
    "        self.data = [0.0] * len(self.data)\n",
    "\n",
    "    def __getitem__(self, idx):\n",
    "        return self.data[idx]"
   ]
  },
  {
   "cell_type": "code",
   "execution_count": 35,
   "id": "49e00a99",
   "metadata": {},
   "outputs": [],
   "source": [
    "device = torch.device('cuda')\n",
    "num_inputs = train_features.shape[1]\n",
    "num_outputs = 2\n",
    "net = nn.Sequential(nn.Flatten(),\n",
    "                    nn.Linear(num_inputs, 512),\n",
    "                    nn.ReLU(),\n",
    "                    nn.Linear(512, 2))\n",
    "net = net.to(device)\n",
    "def init_weights(m):\n",
    "    if type(m) == nn.Linear:\n",
    "        nn.init.normal_(m.weight, std=0.01)\n",
    "net.apply(init_weights)\n",
    "\n",
    "batch_size = 128\n",
    "lr = 0.1\n",
    "num_epochs = 50\n",
    "loss = nn.CrossEntropyLoss(reduction='none')\n",
    "trainer = torch.optim.SGD(net.parameters(), lr=lr)"
   ]
  },
  {
   "cell_type": "code",
   "execution_count": 36,
   "id": "dee1259b",
   "metadata": {},
   "outputs": [
    {
     "name": "stdout",
     "output_type": "stream",
     "text": [
      "start time:2023-04-27 21:28:54\n",
      "epoch:1\tloss:0.45154565076351166\tacc:0.80367875\n",
      "epoch:2\tloss:0.44967799231290817\tacc:0.804366875\n",
      "epoch:3\tloss:0.4486351258071264\tacc:0.80471625\n",
      "epoch:4\tloss:0.4479455166351795\tacc:0.8049609375\n",
      "epoch:5\tloss:0.44741233788013457\tacc:0.80512225\n",
      "epoch:6\tloss:0.44699180698633195\tacc:0.805266875\n",
      "epoch:7\tloss:0.4466340874985286\tacc:0.8053760714285715\n",
      "epoch:8\tloss:0.4463249092406035\tacc:0.80547484375\n",
      "epoch:9\tloss:0.44605404989295533\tacc:0.8055711111111111\n",
      "epoch:10\tloss:0.44580611434698103\tacc:0.805645\n",
      "epoch:11\tloss:0.4455808736866171\tacc:0.8057144318181818\n",
      "epoch:12\tloss:0.4453836702422301\tacc:0.8057780208333334\n",
      "epoch:13\tloss:0.44519854690918553\tacc:0.8058465384615384\n",
      "epoch:14\tloss:0.4450283696089472\tacc:0.8059071428571428\n",
      "epoch:15\tloss:0.44486256420485176\tacc:0.8059656666666667\n",
      "epoch:16\tloss:0.44471099636256695\tacc:0.806003671875\n",
      "epoch:17\tloss:0.4445693953205557\tacc:0.8060585294117647\n",
      "epoch:18\tloss:0.4444323647403717\tacc:0.8061069444444444\n",
      "epoch:19\tloss:0.44430121471957157\tacc:0.8061522368421052\n",
      "epoch:20\tloss:0.444172397613287\tacc:0.806186375\n",
      "epoch:21\tloss:0.4440538815332594\tacc:0.8062239880952381\n",
      "epoch:22\tloss:0.44394275595556604\tacc:0.8062646022727272\n",
      "epoch:23\tloss:0.443828395971008\tacc:0.8062961413043478\n",
      "epoch:24\tloss:0.44372052569727105\tacc:0.806331875\n",
      "epoch:25\tloss:0.44361991404132844\tacc:0.8063689\n",
      "epoch:26\tloss:0.4435193829198984\tacc:0.8064003846153847\n",
      "epoch:27\tloss:0.4434217248803598\tacc:0.8064322222222222\n",
      "epoch:28\tloss:0.4433266285574436\tacc:0.8064627232142857\n",
      "epoch:29\tloss:0.4432336927925307\tacc:0.8064924137931034\n",
      "epoch:30\tloss:0.44314675887362165\tacc:0.8065199166666667\n",
      "epoch:31\tloss:0.44305520843975005\tacc:0.8065508467741935\n",
      "epoch:32\tloss:0.4429684418243915\tacc:0.80657515625\n",
      "epoch:33\tloss:0.4428828556792664\tacc:0.8066114393939394\n",
      "epoch:34\tloss:0.4427982121545427\tacc:0.8066401470588235\n",
      "epoch:35\tloss:0.44271575374855315\tacc:0.8066651071428571\n",
      "epoch:36\tloss:0.4426348034521606\tacc:0.8066952430555555\n",
      "epoch:37\tloss:0.44255496245583975\tacc:0.806719695945946\n",
      "epoch:38\tloss:0.44247903906389285\tacc:0.8067460197368421\n",
      "epoch:39\tloss:0.44240385984029523\tacc:0.8067720512820513\n",
      "epoch:40\tloss:0.4423275168925524\tacc:0.80679925\n",
      "epoch:41\tloss:0.44225233527544067\tacc:0.80682125\n",
      "epoch:42\tloss:0.442176383050964\tacc:0.806850505952381\n",
      "epoch:43\tloss:0.4421040837289012\tacc:0.8068753779069767\n",
      "epoch:44\tloss:0.4420317003875429\tacc:0.8068975\n",
      "epoch:45\tloss:0.4419596802959972\tacc:0.8069258333333333\n",
      "epoch:46\tloss:0.44189276360745017\tacc:0.8069523369565217\n",
      "epoch:47\tloss:0.44182373434234173\tacc:0.8069808510638298\n",
      "epoch:48\tloss:0.4417569884620607\tacc:0.8070075260416667\n",
      "epoch:49\tloss:0.4416905687022209\tacc:0.8070313010204082\n",
      "epoch:50\tloss:0.44162490449295044\tacc:0.807050325\n",
      "time:1130.230323791504\n",
      "END time:2023-04-27 21:47:45\n"
     ]
    }
   ],
   "source": [
    "if isinstance(net, torch.nn.Module):\n",
    "    net.train()\n",
    "# 训练损失总和、训练准确度总和、样本数\n",
    "metric = Accumulator(3)\n",
    "start = time.time()\n",
    "print('start time:%s'%time.strftime('%Y-%m-%d %H:%M:%S'))\n",
    "for epoch in range(num_epochs):\n",
    "    for X, y in train_iter:\n",
    "        X = X.to(device)\n",
    "        y = y.to(device)\n",
    "        # 计算梯度并更新参数\n",
    "        y_hat = net(X)\n",
    "        l = loss(y_hat, y)\n",
    "        if isinstance(trainer, torch.optim.Optimizer):\n",
    "            # 使用PyTorch内的优化器和损失函数\n",
    "            trainer.zero_grad()\n",
    "            l.mean().backward()\n",
    "            trainer.step()\n",
    "        else:\n",
    "            # 使用定制的优化器和损失函数\n",
    "            l.sum().backward()\n",
    "            trainer(X.shape[0])\n",
    "        metric.add(float(l.sum()), accuracy(y_hat, y), y.numel())\n",
    "    train_metrics = metric[0] / metric[2], metric[1] / metric[2]\n",
    "    print(f'epoch:{epoch+1}\\tloss:{train_metrics[0]}\\tacc:{train_metrics[1]}')\n",
    "train_loss, train_acc = train_metrics\n",
    "print(f'time:{time.time() - start}') \n",
    "print(f'END time:%s'%time.strftime('%Y-%m-%d %H:%M:%S'))"
   ]
  },
  {
   "cell_type": "code",
   "execution_count": 65,
   "id": "8cf6bfdb",
   "metadata": {},
   "outputs": [
    {
     "data": {
      "text/plain": [
       "torch.Tensor"
      ]
     },
     "execution_count": 65,
     "metadata": {},
     "output_type": "execute_result"
    }
   ],
   "source": [
    "type(test_features)"
   ]
  },
  {
   "cell_type": "code",
   "execution_count": 37,
   "id": "018f8e83",
   "metadata": {},
   "outputs": [],
   "source": [
    "preds = []\n",
    "test_features = test_features.to(device)\n",
    "preds = net(test_features) "
   ]
  },
  {
   "cell_type": "code",
   "execution_count": 38,
   "id": "7f9210c3",
   "metadata": {},
   "outputs": [
    {
     "data": {
      "text/plain": [
       "torch.Size([200000, 2])"
      ]
     },
     "execution_count": 38,
     "metadata": {},
     "output_type": "execute_result"
    }
   ],
   "source": [
    "preds.shape"
   ]
  },
  {
   "cell_type": "code",
   "execution_count": 39,
   "id": "0b767abb",
   "metadata": {},
   "outputs": [
    {
     "data": {
      "text/plain": [
       "tensor([[ 1.3367, -1.2722],\n",
       "        [ 0.6802, -0.5696],\n",
       "        [-0.2659,  0.2943],\n",
       "        ...,\n",
       "        [ 0.9111, -0.8601],\n",
       "        [ 0.8292, -0.7891],\n",
       "        [ 2.1531, -2.0310]], device='cuda:0', grad_fn=<AddmmBackward0>)"
      ]
     },
     "execution_count": 39,
     "metadata": {},
     "output_type": "execute_result"
    }
   ],
   "source": [
    "preds"
   ]
  },
  {
   "cell_type": "code",
   "execution_count": 40,
   "id": "8cc787db",
   "metadata": {},
   "outputs": [],
   "source": [
    "def softmax(X):\n",
    "    X_exp = torch.exp(X)\n",
    "    partition = X_exp.sum(1, keepdim=True)\n",
    "    return X_exp / partition\n",
    "X_exp = torch.exp(X)\n",
    "partition = X_exp.sum(1, keepdim=True)"
   ]
  },
  {
   "cell_type": "code",
   "execution_count": 41,
   "id": "c82b5511",
   "metadata": {},
   "outputs": [
    {
     "data": {
      "text/plain": [
       "torch.Size([200000])"
      ]
     },
     "execution_count": 41,
     "metadata": {},
     "output_type": "execute_result"
    }
   ],
   "source": [
    "pred_labels = softmax(preds)[:, 1]\n",
    "pred_labels.shape"
   ]
  },
  {
   "cell_type": "code",
   "execution_count": 42,
   "id": "9d0fcb26",
   "metadata": {},
   "outputs": [
    {
     "data": {
      "text/plain": [
       "(200000, 2)"
      ]
     },
     "execution_count": 42,
     "metadata": {},
     "output_type": "execute_result"
    }
   ],
   "source": [
    "res = pd.read_csv(os.path.join(path, 'submit.csv'))\n",
    "res.shape"
   ]
  },
  {
   "cell_type": "code",
   "execution_count": 43,
   "id": "26836f59",
   "metadata": {},
   "outputs": [],
   "source": [
    "pred_labels_cpu = pred_labels.cpu()\n",
    "res['isDefault'] = pred_labels_cpu.detach().numpy()"
   ]
  },
  {
   "cell_type": "code",
   "execution_count": 44,
   "id": "a17de41a",
   "metadata": {},
   "outputs": [],
   "source": [
    "res.to_csv(os.path.join(path, 'submit_nn.csv'), index=0)"
   ]
  },
  {
   "cell_type": "code",
   "execution_count": null,
   "id": "0d4d52fa",
   "metadata": {},
   "outputs": [],
   "source": []
  }
 ],
 "metadata": {
  "kernelspec": {
   "display_name": "Python 3 (ipykernel)",
   "language": "python",
   "name": "python3"
  },
  "language_info": {
   "codemirror_mode": {
    "name": "ipython",
    "version": 3
   },
   "file_extension": ".py",
   "mimetype": "text/x-python",
   "name": "python",
   "nbconvert_exporter": "python",
   "pygments_lexer": "ipython3",
   "version": "3.9.12"
  }
 },
 "nbformat": 4,
 "nbformat_minor": 5
}
